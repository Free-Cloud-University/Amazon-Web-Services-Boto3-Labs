{
 "cells": [
  {
   "cell_type": "markdown",
   "id": "580fc8d8",
   "metadata": {},
   "source": [
    "# Introduction to DynamoDB - Free Cloud University \n",
    "\n",
    "**Goal** The purpose of this lab is to expose you to DynamoDB with Python. By the end of this lab, you should be able to:\n",
    "* Create a DynamoDB table\n",
    "* Delete a DynamoDB table\n",
    "* Insert data into a DynamoDB table\n",
    "* Retrieve data from a DynamoDB table\n",
    "* Update data in a DynamoDB table\n",
    "* Delete data in a DynamoDB table\n",
    "\n",
    "Before you begin, ensure that you have Python 3 installed by running the code block below."
   ]
  },
  {
   "cell_type": "code",
   "execution_count": null,
   "id": "ceefe15e",
   "metadata": {},
   "outputs": [],
   "source": [
    "!python3 --version"
   ]
  },
  {
   "cell_type": "markdown",
   "id": "c54bfaef",
   "metadata": {},
   "source": [
    "Run this code block to ensure that the boto3 library is installed."
   ]
  },
  {
   "cell_type": "code",
   "execution_count": null,
   "id": "a7713ce8",
   "metadata": {},
   "outputs": [],
   "source": [
    "!pip install boto3"
   ]
  },
  {
   "cell_type": "markdown",
   "id": "f4d9f27e",
   "metadata": {},
   "source": [
    "Run this code block to import the necessary packages. "
   ]
  },
  {
   "cell_type": "code",
   "execution_count": null,
   "id": "ffcfdb4a",
   "metadata": {},
   "outputs": [],
   "source": [
    "#This module is necessary for interacting with AWS\n",
    "import boto3\n",
    "\n",
    "#We will be using these modules to create fake data\n",
    "import time\n",
    "from math import sin, cos\n",
    "import random"
   ]
  },
  {
   "cell_type": "markdown",
   "id": "4d0ec33f",
   "metadata": {},
   "source": [
    "Running the code block below will set the region the boto3 library will create the resources."
   ]
  },
  {
   "cell_type": "code",
   "execution_count": null,
   "id": "5e315d92",
   "metadata": {},
   "outputs": [],
   "source": [
    "#We will be using US-East-1 as the default region\n",
    "%env AWS_DEFAULT_REGION =us-east-1"
   ]
  },
  {
   "cell_type": "markdown",
   "id": "45acc3bc",
   "metadata": {},
   "source": [
    "Additionally, to complete this lab, you will need to run the following code block, which creates fake data for you to upload to DynamoDB."
   ]
  },
  {
   "cell_type": "code",
   "execution_count": 21,
   "id": "cc2d5eb9",
   "metadata": {},
   "outputs": [],
   "source": [
    "#This is data for an individual upload\n",
    "current_timestamp = time.time() * 10000000\n",
    "individual_record = {\n",
    "    'timestamp' : str(current_timestamp),\n",
    "    'sin' : sin(current_timestamp),\n",
    "    'cos' : cos(current_timestamp),\n",
    "    'random' : random.randint(1,10),\n",
    "    'name' : random.choice(['Amanda','Becky','Cindy','Davis'])\n",
    "}\n",
    "\n",
    "#This is data for a batch upload\n",
    "data = []\n",
    "for x in range(20):\n",
    "    timestamp = time.time()* 10000000\n",
    "    data.append({\n",
    "        'timestamp' : str(timestamp),\n",
    "        'sin' : sin(timestamp),\n",
    "        'cos' : cos(timestamp),\n",
    "        'random' : random.randint(1,10),\n",
    "        'name' : random.choice(['Amanda','Becky','Cindy','Davis'])\n",
    "    })"
   ]
  },
  {
   "cell_type": "markdown",
   "id": "eaf99d9c",
   "metadata": {},
   "source": [
    "To interact with DynamoDB, you need to create a boto3 object for DynamoDB using the `boto3.resource` function and passing in `dynamodb` as the first parameter. Depending on how you are hosting your code, you might need to set the `aws_access_key_id`, `aws_secret_access_key`, and `region_name` parameters as well."
   ]
  },
  {
   "cell_type": "code",
   "execution_count": null,
   "id": "a9c75234",
   "metadata": {},
   "outputs": [],
   "source": [
    "dynamodb = boto3.resource(\n",
    "    'dynamodb',\n",
    "    aws_access_key_id = None,\n",
    "    aws_secret_access_key = None\n",
    ")"
   ]
  },
  {
   "cell_type": "markdown",
   "id": "0df1758d",
   "metadata": {},
   "source": [
    "## Creating a DynamoDB Table\n",
    "\n",
    "Creating an DynamoDB table is very simple using the boto3 library. After creating the DynamoDB client, you can use the `create_table()` method. There are a couple of key parameters you need to be aware of:\n",
    "\n",
    "- Hash keys and range keys can only be a string, number, or binary. This is declared in the AttributeDefinitions argument.\n",
    "- The values for the hash and range that were set in the KeySchema argument must also be mirrored in the AttributeDefinitions argument.\n",
    "- Every table must have at least one value in the KeySchema argument with a key type of 'HASH'.\n",
    "- In the AttributeType parameter for the AttributeDefinitions argument, S is for string, N is for number, B is for Binary.\n",
    "- Billing mode can can be set to either PAY_PER_REQUEST or PROVISIONED. PAY_PER_REQUEST essentially allows for you to pay as you go. Wherease PROVISIONED requires you to set additional arguments related to how many read and write requests you want to pay for.\n",
    "\n",
    "**Question? What is a hash and range?** Every table is required to have some unique set of values that indicate the row stored in a table. DynamoDB achieves that by utilizing hash and range keys. Hash keys are required and usually indicate the primary key of the data. A range key is optional and is a secondary key of the data. Hash keys and range keys can be used in a category/sub-category structure. Therefore, many values in a table can have the same hash key, as long as they have differing range keys.\n",
    "\n",
    "```python\n",
    "#Code comment\n",
    "dynamodb.create_table(\n",
    "    TableName = 'string',\n",
    "    KeySchema = [\n",
    "        {\n",
    "            'AttributeName' : 'string',\n",
    "            'KeyType' : 'HASH' | 'RANGE'\n",
    "        }\n",
    "    ],\n",
    "    AttributeDefinitions = [\n",
    "        {\n",
    "            'AttributeName' : 'string',\n",
    "            'AttributeType' : 'S' | 'N' | 'B'\n",
    "        }\n",
    "    ],\n",
    "    BillingMode = 'PAY_PER_REQUEST' | 'PROVISIONED'\n",
    ")\n",
    "\n",
    "```"
   ]
  },
  {
   "cell_type": "code",
   "execution_count": null,
   "id": "5d7f2f5e",
   "metadata": {},
   "outputs": [],
   "source": [
    "dynamodb.create_table(\n",
    "    TableName = None,\n",
    "    KeySchema = [\n",
    "        {'AttributeName' : 'timestamp', 'KeyType' : None}\n",
    "    ],\n",
    "    AttributeDefinitions = [\n",
    "        {'AttributeName' : None, 'AttributeType' : None}\n",
    "    ],\n",
    "    BillingMode='PAY_PER_REQUEST'\n",
    ")"
   ]
  },
  {
   "cell_type": "markdown",
   "id": "1153cc3a",
   "metadata": {},
   "source": [
    "## Interact with a Specific Table in DynamoDB\n",
    "\n",
    "In order to interact with a specific table, you need to make a Table object by using the `dynamodb.Table` function, passing in the name of the table you created as the parameter.\n",
    "\n",
    "```python\n",
    "#Example code to create \n",
    "table = dynamodb.Table('NameOfTheTable')\n",
    "```\n",
    "\n",
    "**Try It Out Yourself**: Initialize the Table object by filling out the `None` values with the appropriate values and running the code block below."
   ]
  },
  {
   "cell_type": "code",
   "execution_count": null,
   "id": "7a436f01",
   "metadata": {},
   "outputs": [],
   "source": [
    "table = dynamodb.Table(None)"
   ]
  },
  {
   "cell_type": "markdown",
   "id": "25984b36",
   "metadata": {},
   "source": [
    "## Adding Data to a DynamoDB Table\n",
    "\n",
    "After you created a DynamoDB table, you can put a single item into the table using the `put_item()` method. There are a couple of required parameters. \n",
    "\n",
    "```python\n",
    "table.put_item(\n",
    "    Item = {}\n",
    ")\n",
    "\n",
    "```\n",
    "\n",
    "The `Item` argument t\n",
    "DynamoDB supports 10 types of data by default: strings, numbers, byte strings, string sets, number sets, byte string sets, maps (dictionaries), lists (sets with multiple types), null, and boolean. \n",
    "\n",
    "```python\n",
    "#An example for clarity\n",
    "table.put_item(\n",
    "    Item = {}\n",
    ")\n",
    "\n",
    "```"
   ]
  },
  {
   "cell_type": "code",
   "execution_count": null,
   "id": "e6cd6921",
   "metadata": {},
   "outputs": [],
   "source": [
    "table.put_item(\n",
    "    None = individual_record\n",
    ")"
   ]
  },
  {
   "cell_type": "markdown",
   "id": "e5db433b",
   "metadata": {},
   "source": [
    "You can also upload records in batch by using the `batch_writer` method. \n",
    "```python\n",
    "#Example use of the batch writer\n",
    "with table.batch_writer() as batch:\n",
    "    for item in items:\n",
    "        batch.put_item(\n",
    "            Item = item    \n",
    "        )\n",
    "```\n",
    "\n",
    "**Try It Out Yourself**: Use the `batch_writer` method to upload the data in the `data` variable by filling in the `None` values with the appropriate values."
   ]
  },
  {
   "cell_type": "code",
   "execution_count": null,
   "id": "0d800739",
   "metadata": {},
   "outputs": [],
   "source": [
    "with table.batch_writer() as batch:\n",
    "    for item in None:\n",
    "        batch.put_item(\n",
    "            None = None\n",
    "        )"
   ]
  },
  {
   "cell_type": "markdown",
   "id": "7bfe5be6",
   "metadata": {},
   "source": [
    "## Get Data From DynamoDB\n",
    "\n",
    "To get a single item from DynamoDB, you can use the `get_item` method. You must set the `Key` parameter using a dictionary that contains any HASH and RANGE keys.\n",
    "\n",
    "```python\n",
    "#Example code to get individual item from DynamoDB.\n",
    "table.get_item(\n",
    "    Key = {\n",
    "        'NameOfHash' : 'ValueOfHash'\n",
    "    }\n",
    ").get('Item')\n",
    "```\n",
    "\n",
    "**Try It Out Yourself**: Get the specific item from the DynamoDB table by filling out the `None` values with the appropriate values."
   ]
  },
  {
   "cell_type": "code",
   "execution_count": null,
   "id": "1531747a",
   "metadata": {},
   "outputs": [],
   "source": [
    "response = table.get_item(\n",
    "    None = {\n",
    "        'timestamp' : individual_record['timestamp']\n",
    "    }\n",
    ").get('Item')\n",
    "print(response)"
   ]
  },
  {
   "cell_type": "markdown",
   "id": "e366631e",
   "metadata": {},
   "source": [
    "## Get Multiple Items From DynamoDB\n",
    "You might want to get all of the data in the database. You can do this by using the `scan()` method. \n",
    "\n",
    "```python\n",
    "table.scan(\n",
    "    AttributesToGet = [\n",
    "       'string'\n",
    "    ],\n",
    "    ExclusiveStartKey = {}\n",
    ")\n",
    "\n",
    "```\n",
    "\n",
    "Another thing you might want to do is retrieve all of the data in the database within a given primary key. You can use the `query()` method to do that. \n",
    "\n",
    "```python\n",
    "table.query(\n",
    "    KeyExpressionCondition = 'string',\n",
    "    AttributesToGet = [\n",
    "        'string'\n",
    "    ],\n",
    "    ExclusiveStartKey = {},\n",
    "    ExpressionAttributeValues = {\n",
    "        ':string' : ''\n",
    "    }\n",
    ")\n",
    "\n",
    "```\n",
    "\n",
    "The `scan()` and `query()` methods are almost exactly similar in regards to their method parameters, but the key difference is that the `scan()` method scans through the whole database before performing any filtering operations, whereas the `query()` method subsets data that meet the condition set in the `KeyExpressionCondition` argument before reading the table and applying filter operations. \n",
    "\n",
    "Here are the following operations you can perform in the `KeyExpressionCondition` argument:\n",
    "- sort_key_name = :sort_key_value\n",
    "- sort_key_name < :sort_key_value\n",
    "- sort_key_name > :sort_key_value\n",
    "- sort_key_name <= :sort_key_value\n",
    "- sort_key_name >= :sort_key_value\n",
    "- sort_key_name BETWEEN :sort_key_value_1 AND :sort_key_value_2\n",
    "- begins_with(sort_key_name, sort_key_value)\n",
    "\n",
    "Check out the Boto3 DynamoDB documentation to see what other parameters you can use to filter through data in your DynamoDB table. https://boto3.amazonaws.com/v1/documentation/api/latest/reference/services/dynamodb.html\n",
    "\n",
    "**One Thing To Note**: DynamoDB queries and scans do not return the whole set of available rows in a table when the query is executed. By default, results are paginated. To determine whether there are more values to query, check if the `LastEvaluatedKey` is set in the response, and if so, set the `ExclusiveStartKey` argument as that value. See the example below.\n",
    "\n",
    "```python\n",
    "#An example of how to iterate through all scan results.\n",
    "results = []\n",
    "response = table.scan()\n",
    "\n",
    "for item in response.get('Items',[]):\n",
    "    results.append(item)\n",
    "    \n",
    "if response.get('LastEvaluatedKey'):\n",
    "    print('There are more results')\n",
    "    response = table.scan(\n",
    "        ExclusiveStartKey = response.get('LastEvaluatedKey')\n",
    "    )\n",
    "\n",
    "```\n",
    "\n",
    "**Try It Out Yourself**: Try retrieving all of the data by running the code blocks below."
   ]
  },
  {
   "cell_type": "code",
   "execution_count": null,
   "id": "90e1db5b",
   "metadata": {},
   "outputs": [],
   "source": [
    "#Get Item via scan methods\n",
    "response = table.scan()\n",
    "print(response.get('Items'))\n",
    "\n",
    "#Get Item via query methods\n",
    "response = table.query(\n",
    "    KeyConditionExpression = 'name = :name',\n",
    "    ExpressionAttributeValues = {\n",
    "        ':name' : 'Amanda'\n",
    "    }\n",
    ")\n",
    "print(response.get('Items'))"
   ]
  },
  {
   "cell_type": "markdown",
   "id": "ed62c3ac",
   "metadata": {},
   "source": [
    "## Update Data in DynamoDB\n",
    "\n",
    "Now that you know how to get data from a DynamoDB table and put data into a DynamoDB table, let's now learn how to update data in a Dynamo DB table. You can easily update values by using the `update_item()` method. \n",
    "\n",
    "```python\n",
    "table.update_item(\n",
    "    Key = {\n",
    "        'string' : 'string'\n",
    "    },\n",
    "    UpdateExpression = 'string',\n",
    "    ExpressionAttributeNames = {\n",
    "        'string' : 'string'\n",
    "    },\n",
    "    ExpressionAttributeValues = {\n",
    "        'string' : 'string'\n",
    "    }\n",
    ")\n",
    "\n",
    "```\n",
    "\n",
    "You must provide th key to fetch the item you want to update. You can then update the item by using the `UpdateExpression` argument, `ExpressionAttributeNames` argument, and the `ExpressionAttributeValues` argument. `UpdateExpression` determines which variables you plan to update. In the `UpdateExpression` parameter, keys are indicated with a # (hash symbol) in the beginning and the values are indicated with a : (colon) in the beginning. The following operations you can perform in `UpdateExpression` is:\n",
    "- SET, which allows you to update the information in the row,\n",
    "- REMOVE, which allows you to remove the information in the row,\n",
    "- ADD, which allows you to include information in the row if that field does not exist, and \n",
    "- DELETE, which allows you to remove an item within a set type (StringSet, NumberSet, ByteStringSet).\n",
    "`ExpressionAttributeNames` is a parameter that you can use to dynamically set keys in the `UpdateExpression` and `ExpressionAttributeValues` is a parameter that you can use to dynamically set values in the `UpdateExpression`. \n",
    "\n",
    "Here is an example:\n",
    "\n",
    "```python\n",
    "#Example use of update_item\n",
    "table.update_item(\n",
    "    Key = {\n",
    "        'name' : 'Free Cloud University'\n",
    "    },\n",
    "    UpdateExpression = 'SET #key = :value',\n",
    "    ExpressionAttributeNames = {\n",
    "        '#key' : 'price'\n",
    "    },\n",
    "    ExpressionAttributeValues = {\n",
    "        ':value' : '120'    \n",
    "    }\n",
    ")\n",
    "\n",
    "```\n",
    "\n",
    "**Try It Out Yourself**: Add a price field to the individual record you added to the table by replacing the `None` values with appropriate values."
   ]
  },
  {
   "cell_type": "code",
   "execution_count": null,
   "id": "6d8a2eaa",
   "metadata": {},
   "outputs": [],
   "source": [
    "table.update_item(\n",
    "    Key = {\n",
    "        'timestamp' : individual_record[None]\n",
    "    },\n",
    "    UpdateExpression = 'SET #key = :value',\n",
    "    ExpressionAttributeNames = {\n",
    "        None : 'price'\n",
    "    },\n",
    "    ExpressionAttributeValues = {\n",
    "        None : 120    \n",
    "    }\n",
    ")"
   ]
  },
  {
   "cell_type": "markdown",
   "id": "289fd1b3",
   "metadata": {},
   "source": [
    "## Delete Row in DynamoDB Table\n",
    "\n",
    "Finally, in order to delete a row in the DynamoDB table, you must use the `delete_item()` method. You need to provide the name of the table and key in order to delete the row.\n",
    "\n",
    "```python\n",
    "table.delete_item(\n",
    "    Key = {\n",
    "        'string' : 'string'\n",
    "    }\n",
    ")\n",
    "\n",
    "```\n",
    "\n",
    "**Try It Out Yourself**: Delete a row in the database you created by filling in the `None` values with the appropriate values."
   ]
  },
  {
   "cell_type": "code",
   "execution_count": null,
   "id": "e151591e",
   "metadata": {},
   "outputs": [],
   "source": [
    "table.delete_item(\n",
    "    Key = {\n",
    "        None : individual_record['timestamp']\n",
    "    }\n",
    ")"
   ]
  }
 ],
 "metadata": {
  "kernelspec": {
   "display_name": "Python 3 (ipykernel)",
   "language": "python",
   "name": "python3"
  },
  "language_info": {
   "codemirror_mode": {
    "name": "ipython",
    "version": 3
   },
   "file_extension": ".py",
   "mimetype": "text/x-python",
   "name": "python",
   "nbconvert_exporter": "python",
   "pygments_lexer": "ipython3",
   "version": "3.8.10"
  }
 },
 "nbformat": 4,
 "nbformat_minor": 5
}

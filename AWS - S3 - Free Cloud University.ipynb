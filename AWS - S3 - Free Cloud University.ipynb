{
 "cells": [
  {
   "cell_type": "markdown",
   "id": "4f755b6c",
   "metadata": {},
   "source": [
    "# Introduction to S3 - Free Cloud University \n",
    "\n",
    "**Goal** The purpose of this lab is to expose you to Amazon S3 with Python. By the end of this lab, you should be able to:\n",
    "* Create an S3 Bucket\n",
    "* List files within an S3 Bucket\n",
    "* Upload a file to that S3 Bucket\n",
    "* Download a file from that S3 Bucket\n",
    "* Delete a file from an S3 Bucket\n",
    "* Delete an S3 Bucket\n",
    "\n",
    "Before you begin, ensure that you have Python 3 installed by running the code block below."
   ]
  },
  {
   "cell_type": "code",
   "execution_count": null,
   "id": "456d5bb0",
   "metadata": {},
   "outputs": [],
   "source": [
    "!python3 --version"
   ]
  },
  {
   "cell_type": "markdown",
   "id": "e76877d0",
   "metadata": {},
   "source": [
    "Run this code block to ensure that the boto3 library is installed."
   ]
  },
  {
   "cell_type": "code",
   "execution_count": null,
   "id": "276cad16",
   "metadata": {},
   "outputs": [],
   "source": [
    "!pip install boto3"
   ]
  },
  {
   "cell_type": "markdown",
   "id": "49b0cc6a",
   "metadata": {},
   "source": [
    "Run this code block to import the necessary packages. "
   ]
  },
  {
   "cell_type": "code",
   "execution_count": null,
   "id": "4e513000",
   "metadata": {},
   "outputs": [],
   "source": [
    "#This module is necessary for interacting with AWS\n",
    "import boto3\n",
    "\n",
    "#We will be using these modules to create fake data\n",
    "import time\n",
    "from math import sin, cos\n",
    "import random\n",
    "import csv"
   ]
  },
  {
   "cell_type": "markdown",
   "id": "52134515",
   "metadata": {},
   "source": [
    "Running the code block below will set the region the boto3 library will create the resources."
   ]
  },
  {
   "cell_type": "code",
   "execution_count": null,
   "id": "d877b37e",
   "metadata": {},
   "outputs": [],
   "source": [
    "#We will be using US-East-1 as the default region\n",
    "%env AWS_DEFAULT_REGION=us-east-1"
   ]
  },
  {
   "cell_type": "markdown",
   "id": "929d6b6a",
   "metadata": {},
   "source": [
    "Additionally, to complete this lab, you will need to run the following code block, which creates a file for you to upload to S3."
   ]
  },
  {
   "cell_type": "code",
   "execution_count": null,
   "id": "10988ff6",
   "metadata": {},
   "outputs": [],
   "source": [
    "#Creating a simple file to upload into S3\n",
    "with open('sin_cos.csv','w') as file_to_write:\n",
    "    csv_to_write = csv.writer(file_to_write)\n",
    "    csv_to_write.writerow(['Timestamp','Sin','Cos'])\n",
    "    for x in range(200):\n",
    "        current_timestamp = time.time() * 10000000\n",
    "        csv_to_write.writerow([\n",
    "            str(current_timestamp),\n",
    "            sin(current_timestamp),\n",
    "            cos(current_timestamp)\n",
    "        ])"
   ]
  },
  {
   "cell_type": "markdown",
   "id": "3bf650e7",
   "metadata": {},
   "source": [
    "To interact with S3, you need to create a boto3 object for S3 using the `boto3.resource` function and passing in `s3` as the first parameter. Depending on how you are hosting your code, you might need to set the `aws_access_key_id`, `aws_secret_access_key`, and `region_name` parameters as well."
   ]
  },
  {
   "cell_type": "code",
   "execution_count": null,
   "id": "eef84d30",
   "metadata": {},
   "outputs": [],
   "source": [
    "s3 = boto3.resource(\n",
    "    's3',\n",
    "    aws_access_key_id = None,\n",
    "    aws_secret_access_key = None\n",
    ")"
   ]
  },
  {
   "cell_type": "markdown",
   "id": "828d0faa",
   "metadata": {},
   "source": [
    "## Create an S3 Bucket\n",
    "\n",
    "To create an S3 bucket, simply initialize the bucket object by running the function `s3.Bucket` passing in the bucket name as the only parameter. Then, run the `create` method on the returned object.\n",
    "\n",
    "```python\n",
    "#Example code to create a bucket\n",
    "bucket = s3.Bucket('NameOfTheBucket')\n",
    "bucket.create()\n",
    "```\n",
    "\n",
    "**Try It Out Yourself**: Create an S3 Bucket below by filling in the `None` values with appropriate values."
   ]
  },
  {
   "cell_type": "code",
   "execution_count": null,
   "id": "d33f81fd",
   "metadata": {},
   "outputs": [],
   "source": [
    "#Create an S3 bucket using these lines of code.\n",
    "bucket = s3.Bucket(None)\n",
    "bucket.create()"
   ]
  },
  {
   "cell_type": "markdown",
   "id": "b778bf84",
   "metadata": {},
   "source": [
    "## Upload a File to S3\n",
    "\n",
    "To upload a file to S3, use the `upload_file` method. You need to set two parameters: `Filename`, which is the path to the file you want to upload to S3, and `Key`, which is the name of the file when uploaded to S3.\n",
    "\n",
    "```python\n",
    "#Example code to upload a file to S3\n",
    "bucket.upload_file(Filename = 'path/to/file', Key = 'NameOfFileInS3')\n",
    "```\n",
    "\n",
    "**Try It Out Yourself**: Upload the file `sin_cos.csv` to S3 by filling in the missing `None` values with appropriate values."
   ]
  },
  {
   "cell_type": "code",
   "execution_count": null,
   "id": "e53ec077",
   "metadata": {},
   "outputs": [],
   "source": [
    "#Upload a file to S3 using this method.\n",
    "bucket.upload_file(Filename = None, Key = None)"
   ]
  },
  {
   "cell_type": "markdown",
   "id": "791e840a",
   "metadata": {},
   "source": [
    "## List Files in an S3 Bucket\n",
    "\n",
    "To list the files in an S3 bucket, you can iterate through the returned list of the `objects` property.\n",
    "\n",
    "**Try It Out Yourself**: Run the code block below to see all of the files you've uploaded to S3."
   ]
  },
  {
   "cell_type": "code",
   "execution_count": null,
   "id": "0bbfcd6e",
   "metadata": {},
   "outputs": [],
   "source": [
    "#List all of the files in a bucket and print the keys using these lines of code.\n",
    "bucket.load()\n",
    "for obj in bucket.objects.all():\n",
    "    print(obj)"
   ]
  },
  {
   "cell_type": "markdown",
   "id": "7241911f",
   "metadata": {},
   "source": [
    "## Download a File in an S3 Bucket\n",
    "\n",
    "To download a file from an S3 bucket, simply use the `download_file` method. It takes two parameters: the `Key`, which is the name of the object in S3, and `Filename`, which is what you want the file to be called when downloaded locally.\n",
    "\n",
    "```python\n",
    "#Example code to download a file from S3\n",
    "bucket.download(Key = 'path/to/file/in/S3', Filename = 'path/to/local/file')\n",
    "```\n",
    "\n",
    "**Try It Out Yourself**: Download the file `sin_cos.csv` that you just uploaded to S3 by filling in the `None` values with appropriate values."
   ]
  },
  {
   "cell_type": "code",
   "execution_count": null,
   "id": "e5881865",
   "metadata": {},
   "outputs": [],
   "source": [
    "#Download a file from S3 using this method.\n",
    "bucket.download_file(Key = None, FileName = None)"
   ]
  },
  {
   "cell_type": "markdown",
   "id": "9c36bca6",
   "metadata": {},
   "source": [
    "## Delete Files in S3\n",
    "\n",
    "There are a couple of ways you can delete files in S3. The first way is by using the `delete_objects` method associated with the bucket object. It takes a parameter called `Delete`, which is a dictionary that contains a key of `Objects` and the value should be a list of dictionaries where each dictionary has the key `Key`. In each dictionary in the `Objects` list, you can additionally set the version of the file you want to delete by setting the `Version` key.\n",
    "\n",
    "```python\n",
    "#One way to delete objects in S3\n",
    "bucket.delete_objects(\n",
    "    Delete = {\n",
    "        'Objects' : [\n",
    "            {'Key' : 'path/to/file/in/s3'}\n",
    "        ]\n",
    "    }\n",
    ")\n",
    "\n",
    "```\n",
    "\n",
    "Using this method, you can delete up to 1,000 objects using this method. If you want to delete more, \n",
    "\n",
    "**Try It Out Yourself**: Delete the file you uploaded to S3 by filling in the `None` values with appropriate values."
   ]
  },
  {
   "cell_type": "code",
   "execution_count": null,
   "id": "19706fa2",
   "metadata": {},
   "outputs": [],
   "source": [
    "#Delete the files in S3 using this method.\n",
    "bucket.delete_objects(\n",
    "    None = {\n",
    "        None : [{'Key' : None}]\n",
    "    }\n",
    ")"
   ]
  },
  {
   "cell_type": "markdown",
   "id": "d05a01a3",
   "metadata": {},
   "source": [
    "The second way that you can delete files in S3 depends on whether you know the Key you want to delete. You can create an s3 Object object by using the `s3.Object()` function, passing in the two parameters: the bucket name and the key name. Then on that s3 Object object, you can call the `delete` method.\n",
    "\n",
    "```python\n",
    "#Another way to delete objects in S3\n",
    "s3object = s3.Object('BucketName','Key')\n",
    "s3object.delete()\n",
    "```\n",
    "\n",
    "**Try It Out Yourself**: Upload a file to S3, and then delete that file by filling out the `None` values with appropriate values."
   ]
  },
  {
   "cell_type": "code",
   "execution_count": null,
   "id": "0c5c0686",
   "metadata": {},
   "outputs": [],
   "source": [
    "#Upload the file to s3 using this method.\n",
    "bucket.upload_file(Filename = 'sin_cos.csv', Key = None)\n",
    "\n",
    "#Delete the files in S3 using this method.\n",
    "s3object = s3.Object(None, None)\n",
    "s3object.delete()"
   ]
  },
  {
   "cell_type": "markdown",
   "id": "95e9eff3",
   "metadata": {},
   "source": [
    "## Delete Bucket\n",
    "\n",
    "To delete a bucket in S3, simply call the `delete` method on the S3 Bucket object. Before you can delete an S3 bucket, the bucket must be empty.\n",
    "\n",
    "```python\n",
    "#Example code to delete a bucket in S3\n",
    "bucket.delete()\n",
    "```\n",
    "\n",
    "**Try It Out Yourself**: Create a new bucket in S3, then delete that bucket by filling in the `None` values with appropriate values."
   ]
  },
  {
   "cell_type": "code",
   "execution_count": null,
   "id": "379ec6de",
   "metadata": {},
   "outputs": [],
   "source": [
    "#Create and delete an S3 bucket by using these methods.\n",
    "new_bucket = s3.Bucket(None)\n",
    "new_bucket.delete()"
   ]
  },
  {
   "cell_type": "markdown",
   "id": "075fad3b",
   "metadata": {},
   "source": [
    "Congratulations! You now know the basics of using Python and the Boto3 library to interact with S3. \n",
    "\n",
    "\n",
    "## Challenge Time\n",
    "Write some Python code below to perform the following tasks:\n",
    "1. Create a bucket.\n",
    "2. Upload some files into that bucket.\n",
    "3. Iterate through each file in a bucket\n",
    "4. If that file is older than three days, download the file, then delete the bucket."
   ]
  },
  {
   "cell_type": "code",
   "execution_count": null,
   "id": "02514bc3",
   "metadata": {},
   "outputs": [],
   "source": []
  }
 ],
 "metadata": {
  "kernelspec": {
   "display_name": "Python 3 (ipykernel)",
   "language": "python",
   "name": "python3"
  },
  "language_info": {
   "codemirror_mode": {
    "name": "ipython",
    "version": 3
   },
   "file_extension": ".py",
   "mimetype": "text/x-python",
   "name": "python",
   "nbconvert_exporter": "python",
   "pygments_lexer": "ipython3",
   "version": "3.8.10"
  }
 },
 "nbformat": 4,
 "nbformat_minor": 5
}

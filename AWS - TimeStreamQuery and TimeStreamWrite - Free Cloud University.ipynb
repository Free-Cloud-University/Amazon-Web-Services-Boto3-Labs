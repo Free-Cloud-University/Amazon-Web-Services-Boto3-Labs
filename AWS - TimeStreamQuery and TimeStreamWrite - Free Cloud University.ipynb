{
 "cells": [
  {
   "cell_type": "markdown",
   "id": "c8952258",
   "metadata": {},
   "source": [
    "# Introduction to TimeStream - Free Cloud University\n",
    "\n",
    "**Goal** The purpose of this lab is to expose you to interact with TimeStream using Python. By the end of this lab, you should be able to:\n",
    "* Create a database\n",
    "* Create a table\n",
    "* Delete a table\n",
    "* Insert data into a table\n",
    "* Retrieve data from a table\n",
    "* Delete a database\n",
    "\n",
    "Before you begin, ensure that you have Python 3 installed by running the code block below."
   ]
  },
  {
   "cell_type": "code",
   "execution_count": null,
   "id": "554e50ae",
   "metadata": {},
   "outputs": [],
   "source": [
    "!python3 --version"
   ]
  },
  {
   "cell_type": "markdown",
   "id": "ccd0a445",
   "metadata": {},
   "source": [
    "Run this code block to ensure that the boto3 library is installed."
   ]
  },
  {
   "cell_type": "code",
   "execution_count": null,
   "id": "0c6058cb",
   "metadata": {},
   "outputs": [],
   "source": [
    "!pip install boto3"
   ]
  },
  {
   "cell_type": "markdown",
   "id": "6fbd656a",
   "metadata": {},
   "source": [
    "Run this code block to import the necessary packages. "
   ]
  },
  {
   "cell_type": "code",
   "execution_count": null,
   "id": "6d7b636c",
   "metadata": {},
   "outputs": [],
   "source": [
    "#This module is necessary for interacting with AWS\n",
    "import boto3\n",
    "\n",
    "#We will be using these modules to create fake data\n",
    "from datetime import datetime\n",
    "from math import sin, cos\n",
    "import random"
   ]
  },
  {
   "cell_type": "markdown",
   "id": "87aa5a59",
   "metadata": {},
   "source": [
    "Running the code block below will set the region the boto3 library will create the resources."
   ]
  },
  {
   "cell_type": "code",
   "execution_count": null,
   "id": "dd4f0940",
   "metadata": {},
   "outputs": [],
   "source": [
    "#We will be using US-East-1 as the default region\n",
    "%env AWS_DEFAULT_REGION =us-east-1"
   ]
  },
  {
   "cell_type": "markdown",
   "id": "b0c46ec6",
   "metadata": {},
   "source": [
    "Additionally, to complete this lab, you will need to run the following code block, which creates a file for you to upload to TimeStream."
   ]
  },
  {
   "cell_type": "code",
   "execution_count": null,
   "id": "252b7075",
   "metadata": {},
   "outputs": [],
   "source": [
    "#This is data for a batch upload\n",
    "data = []\n",
    "for x in range(50):\n",
    "    time.sleep(1)\n",
    "    timestamp = time.time() \n",
    "    data.append({\n",
    "        'Dimensions' : [\n",
    "            {\n",
    "                'Name' : 'student',\n",
    "                'Value' : random.choice(['Amanda','Becky','Cindy','Davis']),\n",
    "                'DimensionValueType' : 'VARCHAR'\n",
    "            }\n",
    "        ],\n",
    "        'Time': str(int(timestamp)),\n",
    "        'TimeUnit' : 'SECONDS',\n",
    "        'MeasureName' : 'sin',\n",
    "        'MeasureValue' : str(sin(timestamp)),\n",
    "        'MeasureValueType' : 'DOUBLE'\n",
    "    })"
   ]
  },
  {
   "cell_type": "code",
   "execution_count": null,
   "id": "10c2e351",
   "metadata": {},
   "outputs": [],
   "source": [
    "tsw = boto3.client(\n",
    "    'timestream-write',\n",
    "    aws_access_key_id=None,\n",
    "    aws_secret_access_key=None\n",
    ")\n",
    "tsq = boto3.client(\n",
    "    'timestream-query',\n",
    "    aws_access_key_id=None,\n",
    "    aws_secret_access_key=None\n",
    ")"
   ]
  },
  {
   "cell_type": "markdown",
   "id": "6162873e",
   "metadata": {},
   "source": [
    "## Create a TimeStream Database\n",
    "\n",
    "To create a TimeStream database, you can use the `create_database` method where you must pass in a database name of your choice by setting the `DatabaseName` parameter.\n",
    "\n",
    "```python\n",
    "#Example code to create a database.\n",
    "tsw.create_database(\n",
    "    DatabaseName = 'NameOfTheDatabase'\n",
    ")\n",
    "\n",
    "```\n",
    "\n",
    "**Try It Out Yourself**: Fill in the `None` values below to create a database."
   ]
  },
  {
   "cell_type": "code",
   "execution_count": null,
   "id": "8dbf6ce0",
   "metadata": {},
   "outputs": [],
   "source": [
    "tsw.create_database(\n",
    "    DatabaseName = None\n",
    ")"
   ]
  },
  {
   "cell_type": "markdown",
   "id": "a9492165",
   "metadata": {},
   "source": [
    "## Create a TimeStream Database Table\n",
    "\n",
    "To create a database table, you can use the `create_table` method where you pass in the name of the database you created using the `DatabaseName` parameter and the name of the table you want to make by using the `TableName` parameter.\n",
    "\n",
    "```python\n",
    "#Example code to create a database table.\n",
    "tsw.create_table(\n",
    "    DatabaseName = 'NameOfTheDatabase',\n",
    "    TableName = 'NameOfTheTable'\n",
    ")\n",
    "```\n",
    "\n",
    "**Try It Out Yourself**: Fill in the `None` values below to create a TimeStream table. \n",
    "\n",
    "**Note**: The `RetentionProperties.MagneticStoreRetentionPeriodInDays` is set to 3650 so that we can store records that are up to 10 years old."
   ]
  },
  {
   "cell_type": "code",
   "execution_count": null,
   "id": "877a95c3",
   "metadata": {},
   "outputs": [],
   "source": [
    "tsw.create_table(\n",
    "    DatabaseName=None,\n",
    "    TableName=None,\n",
    "    RetentionProperties={\n",
    "        'MagneticStoreRetentionPeriodInDays': 8766,\n",
    "        'MemoryStoreRetentionPeriodInHours' : 8766,\n",
    "    }\n",
    ")"
   ]
  },
  {
   "cell_type": "markdown",
   "id": "f0166040",
   "metadata": {},
   "source": [
    "## List TimeStream Databases\n",
    "\n",
    "To list the databases you have, you can run the `list_databases` method. \n",
    "\n",
    "```python\n",
    "#Example code to list databases.\n",
    "tsw.list_databases()\n",
    "```\n",
    "\n",
    "**Try It Out Yourself**: Run the code sample below to see which databases you have."
   ]
  },
  {
   "cell_type": "code",
   "execution_count": null,
   "id": "ba03d9d9",
   "metadata": {},
   "outputs": [],
   "source": [
    "tsw.list_databases()"
   ]
  },
  {
   "cell_type": "markdown",
   "id": "ddb692d7",
   "metadata": {},
   "source": [
    "## List TimeStream Database Tables\n",
    "\n",
    "To see which tables are in a database, use the `list_tables` method with the name of the database to see what tables are there. \n",
    "\n",
    "```python\n",
    "#Example code to list database tables.\n",
    "tsw.list_tables(\n",
    "    DatabaseName = 'NameOfTheDatabase'\n",
    ")\n",
    "```\n",
    "\n",
    "**Try It Out Yourself**: Fill in the `None` values with the appropriate values to list the tables in the database you just created. There should be at least 1."
   ]
  },
  {
   "cell_type": "code",
   "execution_count": null,
   "id": "81dc1e2f",
   "metadata": {},
   "outputs": [],
   "source": [
    "tsw.list_tables(\n",
    "    DatabaseName = None\n",
    ")"
   ]
  },
  {
   "cell_type": "markdown",
   "id": "1e53e365",
   "metadata": {},
   "source": [
    "## Get Information About a Database or Table\n",
    "\n",
    "You can see important information about a database or table by using the `describe_database` and `describe_table` methods respectively. In the `describe_database` method, you must pass in the database name, and in the `describe_table` method, you must pass in the database name and table name.\n",
    "\n",
    "```python\n",
    "#Example code to get information about database.\n",
    "tsw.describe_database(\n",
    "    DatabaseName = 'NameOfTheDatabase'    \n",
    ")\n",
    "\n",
    "#Example code to get information about database table.\n",
    "tsw.describe_table(\n",
    "    DatabaseName = 'NameOfTheDatabase',\n",
    "    TableName = 'NameOfTheTable'\n",
    ")\n",
    "```\n",
    "\n",
    "**Try It Out Yourself**: Fill in the missing `None` values with appropriate values and run the two blocks of code below. "
   ]
  },
  {
   "cell_type": "code",
   "execution_count": null,
   "id": "58d00143",
   "metadata": {},
   "outputs": [],
   "source": [
    "tsw.describe_database(\n",
    "    DatabaseName = None\n",
    ")"
   ]
  },
  {
   "cell_type": "code",
   "execution_count": null,
   "id": "5f2959d5",
   "metadata": {},
   "outputs": [],
   "source": [
    "tsw.describe_table(\n",
    "    DatabaseName = None,\n",
    "    TableName = None\n",
    ")"
   ]
  },
  {
   "cell_type": "markdown",
   "id": "bf64efef",
   "metadata": {},
   "source": [
    "## Write Records to TimeStream Table\n",
    "\n",
    "To add records to a table, you can use the `write_records` method. You must pass in the name of the database, the name of the table, and a list of records.\n",
    "\n",
    "**Note**: Records must follow the following structure:\n",
    "```python\n",
    "{\n",
    "    'Dimensions' : [\n",
    "        {\n",
    "            'Name' : 'string',\n",
    "            'Value' : 'string',\n",
    "            'DimensionValueType': 'VARCHAR'\n",
    "        }\n",
    "    ],\n",
    "    'MeasureName': 'string',\n",
    "    'MeasureValue': 'string',\n",
    "    'MeasureValueType': 'DOUBLE'|'BIGINT'|'VARCHAR'|'BOOLEAN'|'TIMESTAMP'|'MULTI',\n",
    "    'Time': 'string',\n",
    "    'TimeUnit': 'MILLISECONDS'|'SECONDS'|'MICROSECONDS'|'NANOSECONDS',\n",
    "    'MeasureValues': [\n",
    "        {\n",
    "            'Name': 'string',\n",
    "            'Value': 'string',\n",
    "            'Type': 'DOUBLE'|'BIGINT'|'VARCHAR'|'BOOLEAN'|'TIMESTAMP'|'MULTI'\n",
    "        },\n",
    "    ]\n",
    "}\n",
    "```\n",
    "Measures are values you can include in aggregation methods, whereas dimensions are values you can filter results by. `MeasureName`, `MeasureValue`, and `MeasureValueType` correspond to a singular measure you want to store in the record. If you want to have multiple measures, you can use the `MeasureValues` parameter. To include dimensions, use the `Dimensions` parameter. \n",
    "\n",
    "The `Time` and `TimeUnit` refer to a timestamp of when the record took place.\n",
    "\n",
    "**Try It Out Yourself**: Run the block below to generate data to load into TimeStream. Then fill in the `None` values with appropriate values."
   ]
  },
  {
   "cell_type": "code",
   "execution_count": null,
   "id": "c10af4fd",
   "metadata": {},
   "outputs": [],
   "source": [
    "tsw.write_records(\n",
    "    DatabaseName = None,\n",
    "    TableName = None,\n",
    "    Records = data\n",
    ")"
   ]
  },
  {
   "cell_type": "markdown",
   "id": "2f2c1733",
   "metadata": {},
   "source": [
    "## Query Data in TimeStream\n",
    "\n",
    "Let's query the data inserted into the TimeStream database by using the `query` method in the `timestreamquery` client. You must simply pass in the query using the `QueryString` parameter. Note that Time Stream uses queries similar to SQL, but you denote the location of the query by using this notation: `database.table`.\n",
    "\n",
    "**Try It Out Yourself**: Fill in the `None` values with the appropriate values to query the Time Stream database."
   ]
  },
  {
   "cell_type": "code",
   "execution_count": null,
   "id": "85667028",
   "metadata": {},
   "outputs": [],
   "source": [
    "database_name = None\n",
    "database_table = None\n",
    "\n",
    "x = f'''select * from {database_name}.{database_table}'''\n",
    "\n",
    "tsq.query(\n",
    "    QueryString = x\n",
    ")"
   ]
  },
  {
   "cell_type": "markdown",
   "id": "c6371d8b",
   "metadata": {},
   "source": [
    "## Delete Table in TimeStream\n",
    "\n",
    "To delete a table using TimeStream, use the `delete_table` method, passing in both the name of the table you want to delete and the name of the database it resides in.\n",
    "\n",
    "```python\n",
    "#Example code for deleting a table\n",
    "tsw.delete_table(\n",
    "    DatabaseName = 'NameOfTheDatabase',\n",
    "    TableName = 'NameOfTheTable'\n",
    ")\n",
    "```\n",
    "\n",
    "**Try It Out Yourself**: Delete a database table you created by filling in the missing `None` values with appropriate values."
   ]
  },
  {
   "cell_type": "code",
   "execution_count": null,
   "id": "0c6be244",
   "metadata": {},
   "outputs": [],
   "source": [
    "tsw.delete_table(\n",
    "    DatabaseName = None,\n",
    "    TableName = None\n",
    ")"
   ]
  },
  {
   "cell_type": "markdown",
   "id": "fb2ce1e2",
   "metadata": {},
   "source": [
    "## Delete Database in TimeStream\n",
    "\n",
    "To delete a database using TimeStream, use the `delete_database` method, passing in the name of the database you want to delete.\n",
    "\n",
    "```python\n",
    "#Example code for deleting a database\n",
    "tsw.delete_table(\n",
    "    DatabaseName = 'NameOfTheDatabase'\n",
    ")\n",
    "```\n",
    "\n",
    "**Try It Out Yourself**: Delete a database you created by filling in the missing `None` values with appropriate values."
   ]
  },
  {
   "cell_type": "code",
   "execution_count": null,
   "id": "031154f8",
   "metadata": {},
   "outputs": [],
   "source": [
    "tsw.delete_database(\n",
    "    DatabaseName = None\n",
    ")"
   ]
  }
 ],
 "metadata": {
  "kernelspec": {
   "display_name": "Python 3 (ipykernel)",
   "language": "python",
   "name": "python3"
  },
  "language_info": {
   "codemirror_mode": {
    "name": "ipython",
    "version": 3
   },
   "file_extension": ".py",
   "mimetype": "text/x-python",
   "name": "python",
   "nbconvert_exporter": "python",
   "pygments_lexer": "ipython3",
   "version": "3.8.10"
  }
 },
 "nbformat": 4,
 "nbformat_minor": 5
}

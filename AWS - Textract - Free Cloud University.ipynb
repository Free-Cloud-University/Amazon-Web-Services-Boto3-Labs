{
 "cells": [
  {
   "cell_type": "markdown",
   "id": "6aac6e0e",
   "metadata": {},
   "source": [
    "# Introduction to Textract - Free Cloud University\n",
    "\n",
    "**Goal** The purpose of this lab is to expose you to interact with Textract using Python. By the end of this lab, you should be able to:\n",
    "* Extract text from an image uploaded to S3 using Textract\n",
    "\n",
    "Before you begin, ensure that you have Python 3 installed by running the code block below."
   ]
  },
  {
   "cell_type": "code",
   "execution_count": null,
   "id": "456d5bb0",
   "metadata": {},
   "outputs": [],
   "source": [
    "!python3 --version"
   ]
  },
  {
   "cell_type": "markdown",
   "id": "9c560f31",
   "metadata": {},
   "source": [
    "Run this code block to ensure that the boto3 library is installed."
   ]
  },
  {
   "cell_type": "code",
   "execution_count": null,
   "id": "6fb27073",
   "metadata": {},
   "outputs": [],
   "source": [
    "!pip install boto3"
   ]
  },
  {
   "cell_type": "markdown",
   "id": "8915013a",
   "metadata": {},
   "source": [
    "Run this code block to import the necessary packages. "
   ]
  },
  {
   "cell_type": "code",
   "execution_count": null,
   "id": "4e513000",
   "metadata": {},
   "outputs": [],
   "source": [
    "#This module is necessary for interacting with AWS\n",
    "import boto3\n",
    "\n",
    "#We will be using these modules to create fake data\n",
    "from math import sin\n",
    "import matplotlib.pyplot as plt"
   ]
  },
  {
   "cell_type": "markdown",
   "id": "857f8178",
   "metadata": {},
   "source": [
    "Running the code block below will set the region the boto3 library will create the resources."
   ]
  },
  {
   "cell_type": "code",
   "execution_count": null,
   "id": "d877b37e",
   "metadata": {},
   "outputs": [],
   "source": [
    "#We will be using US-East-1 as the default region\n",
    "%env AWS_DEFAULT_REGION =us-east-1"
   ]
  },
  {
   "cell_type": "markdown",
   "id": "4ed3ccd8",
   "metadata": {},
   "source": [
    "Next, we will create a PNG file with the matplotlib for wor"
   ]
  },
  {
   "cell_type": "code",
   "execution_count": null,
   "id": "285f90d3",
   "metadata": {},
   "outputs": [],
   "source": [
    "x, y = [], []\n",
    "for i in range(0, 200):\n",
    "    x.append(i)\n",
    "    y.append(sin(i))\n",
    "\n",
    "plt.plot(x, y)\n",
    "plt.title('Relationship Between X and Sin of X')\n",
    "plt.xlabel(\"X Values\")\n",
    "plt.ylabel(\"Sin of X\")\n",
    "plt.savefig('foo.png')"
   ]
  },
  {
   "cell_type": "markdown",
   "id": "dbc57c1b",
   "metadata": {},
   "source": [
    "Finally, before we can interact with all of the AWS resources, we need to create the boto3 clients. \n",
    "\n",
    "**Try It Out Yourself**: Fill in the missing `None` values with your AWS credentials and run the code block below."
   ]
  },
  {
   "cell_type": "code",
   "execution_count": null,
   "id": "96ce7690",
   "metadata": {},
   "outputs": [],
   "source": [
    "creds = {\n",
    "    'aws_access_key_id' : None,\n",
    "    'aws_access_secret_key' : None\n",
    "}\n",
    "\n",
    "textract = boto3.client(\n",
    "    'textract',\n",
    "    aws_access_key_id=creds['aws_access_key_id'],\n",
    "    aws_secret_access_key=creds['aws_access_secret_key']\n",
    ")\n",
    "\n",
    "s3 = boto3.resource(\n",
    "    's3',\n",
    "    aws_access_key_id=creds['aws_access_key_id'],\n",
    "    aws_secret_access_key=creds['aws_access_secret_key']\n",
    ")"
   ]
  },
  {
   "cell_type": "markdown",
   "id": "87aebc61",
   "metadata": {},
   "source": [
    "Before we continue with the lab, create an S3 Bucket and upload the image created above by filling in the missing `None` values and running the code block below."
   ]
  },
  {
   "cell_type": "code",
   "execution_count": null,
   "id": "e49a0e94",
   "metadata": {},
   "outputs": [],
   "source": [
    "#First, let's create an S3 bucket upload the CSV file\n",
    "bucket = s3.Bucket(None)\n",
    "bucket.create()\n",
    "\n",
    "filename = 'foo.png'\n",
    "with open(filename, 'rb') as data:\n",
    "    bucket.upload_fileobj(data, 'foo.png')"
   ]
  },
  {
   "cell_type": "markdown",
   "id": "78161103",
   "metadata": {},
   "source": [
    "In order to extract the text of a file using Textract, use the `analyze_document` method. You need to set two parameters: the `Document` parameter, which contains the information about the file you want to extra"
   ]
  },
  {
   "cell_type": "code",
   "execution_count": null,
   "id": "8055942c",
   "metadata": {},
   "outputs": [],
   "source": [
    "response = textract.analyze_document(\n",
    "    Document={\n",
    "        'S3Object': {\n",
    "            'Bucket': None,\n",
    "            'Name': None\n",
    "        }\n",
    "    },\n",
    "    FeatureTypes=[\n",
    "        None\n",
    "    ]\n",
    ")"
   ]
  }
 ],
 "metadata": {
  "kernelspec": {
   "display_name": "Python 3 (ipykernel)",
   "language": "python",
   "name": "python3"
  },
  "language_info": {
   "codemirror_mode": {
    "name": "ipython",
    "version": 3
   },
   "file_extension": ".py",
   "mimetype": "text/x-python",
   "name": "python",
   "nbconvert_exporter": "python",
   "pygments_lexer": "ipython3",
   "version": "3.8.10"
  }
 },
 "nbformat": 4,
 "nbformat_minor": 5
}
